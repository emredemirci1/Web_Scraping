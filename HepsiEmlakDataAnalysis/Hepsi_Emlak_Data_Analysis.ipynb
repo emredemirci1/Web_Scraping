{
 "cells": [
  {
   "cell_type": "code",
   "execution_count": 6,
   "metadata": {},
   "outputs": [],
   "source": [
    "import pandas as pd\n",
    "import numpy as np\n",
    "from sklearn.preprocessing import LabelEncoder"
   ]
  },
  {
   "cell_type": "code",
   "execution_count": 7,
   "metadata": {},
   "outputs": [
    {
     "data": {
      "text/html": [
       "<div>\n",
       "<style scoped>\n",
       "    .dataframe tbody tr th:only-of-type {\n",
       "        vertical-align: middle;\n",
       "    }\n",
       "\n",
       "    .dataframe tbody tr th {\n",
       "        vertical-align: top;\n",
       "    }\n",
       "\n",
       "    .dataframe thead th {\n",
       "        text-align: right;\n",
       "    }\n",
       "</style>\n",
       "<table border=\"1\" class=\"dataframe\">\n",
       "  <thead>\n",
       "    <tr style=\"text-align: right;\">\n",
       "      <th></th>\n",
       "      <th>Şehir</th>\n",
       "      <th>İlçe</th>\n",
       "      <th>Fiyat</th>\n",
       "      <th>Metre_Kare</th>\n",
       "      <th>Konut Tipi</th>\n",
       "      <th>Oda + Salon Sayısı</th>\n",
       "      <th>Bulunduğu Kat</th>\n",
       "      <th>Bina Yaşı</th>\n",
       "      <th>Isınma Tipi</th>\n",
       "      <th>Kat Sayısı</th>\n",
       "      <th>Eşya Durumu</th>\n",
       "      <th>Banyo Sayısı</th>\n",
       "      <th>Kira Getirisi</th>\n",
       "    </tr>\n",
       "  </thead>\n",
       "  <tbody>\n",
       "    <tr>\n",
       "      <th>0</th>\n",
       "      <td>Adana</td>\n",
       "      <td>Sarıçam</td>\n",
       "      <td>1.895.000 TL</td>\n",
       "      <td>175 m2</td>\n",
       "      <td>Daire</td>\n",
       "      <td>3 + 1</td>\n",
       "      <td>4. Kat</td>\n",
       "      <td>1 Yaşında</td>\n",
       "      <td>Kombi</td>\n",
       "      <td>13 Katlı</td>\n",
       "      <td>Eşyalı Değil</td>\n",
       "      <td>2.0</td>\n",
       "      <td>15.000 TL</td>\n",
       "    </tr>\n",
       "    <tr>\n",
       "      <th>1</th>\n",
       "      <td>Adana</td>\n",
       "      <td>Sarıçam</td>\n",
       "      <td>19.500.000 TL</td>\n",
       "      <td>628 m2</td>\n",
       "      <td>Villa</td>\n",
       "      <td>5 + 1</td>\n",
       "      <td>NaN</td>\n",
       "      <td>Sıfır Bina</td>\n",
       "      <td>Kombi</td>\n",
       "      <td>3 Katlı</td>\n",
       "      <td>Eşyalı Değil</td>\n",
       "      <td>3.0</td>\n",
       "      <td>1.000.000 TL</td>\n",
       "    </tr>\n",
       "    <tr>\n",
       "      <th>2</th>\n",
       "      <td>İstanbul</td>\n",
       "      <td>Beylikdüzü</td>\n",
       "      <td>3.150.000 TL</td>\n",
       "      <td>125 m2</td>\n",
       "      <td>Daire</td>\n",
       "      <td>2 + 1</td>\n",
       "      <td>2. Kat</td>\n",
       "      <td>3 Yaşında</td>\n",
       "      <td>Kombi</td>\n",
       "      <td>4 Katlı</td>\n",
       "      <td>Eşyalı Değil</td>\n",
       "      <td>1.0</td>\n",
       "      <td>30.000 TL</td>\n",
       "    </tr>\n",
       "    <tr>\n",
       "      <th>3</th>\n",
       "      <td>Ankara</td>\n",
       "      <td>Mamak</td>\n",
       "      <td>3.900.000 TL</td>\n",
       "      <td>260 m2</td>\n",
       "      <td>Daire</td>\n",
       "      <td>4 + 1</td>\n",
       "      <td>7. Kat</td>\n",
       "      <td>5 Yaşında</td>\n",
       "      <td>Kombi</td>\n",
       "      <td>7 Katlı</td>\n",
       "      <td>Eşyalı Değil</td>\n",
       "      <td>2.0</td>\n",
       "      <td>25.000 TL</td>\n",
       "    </tr>\n",
       "    <tr>\n",
       "      <th>4</th>\n",
       "      <td>Bursa</td>\n",
       "      <td>Osmangazi</td>\n",
       "      <td>3.750.000 TL</td>\n",
       "      <td>170 m2</td>\n",
       "      <td>Daire</td>\n",
       "      <td>4 + 1</td>\n",
       "      <td>2. Kat</td>\n",
       "      <td>5 Yaşında</td>\n",
       "      <td>Kombi</td>\n",
       "      <td>2 Katlı</td>\n",
       "      <td>Eşyalı Değil</td>\n",
       "      <td>1.0</td>\n",
       "      <td>NaN</td>\n",
       "    </tr>\n",
       "  </tbody>\n",
       "</table>\n",
       "</div>"
      ],
      "text/plain": [
       "      Şehir        İlçe          Fiyat Metre_Kare Konut Tipi  \\\n",
       "0     Adana     Sarıçam   1.895.000 TL     175 m2      Daire   \n",
       "1     Adana     Sarıçam  19.500.000 TL     628 m2      Villa   \n",
       "2  İstanbul  Beylikdüzü   3.150.000 TL     125 m2      Daire   \n",
       "3    Ankara       Mamak   3.900.000 TL     260 m2      Daire   \n",
       "4     Bursa   Osmangazi   3.750.000 TL     170 m2      Daire   \n",
       "\n",
       "  Oda + Salon Sayısı Bulunduğu Kat   Bina Yaşı Isınma Tipi Kat Sayısı  \\\n",
       "0              3 + 1        4. Kat   1 Yaşında       Kombi   13 Katlı   \n",
       "1              5 + 1           NaN  Sıfır Bina       Kombi    3 Katlı   \n",
       "2              2 + 1        2. Kat   3 Yaşında       Kombi    4 Katlı   \n",
       "3              4 + 1        7. Kat   5 Yaşında       Kombi    7 Katlı   \n",
       "4              4 + 1        2. Kat   5 Yaşında       Kombi    2 Katlı   \n",
       "\n",
       "    Eşya Durumu  Banyo Sayısı Kira Getirisi  \n",
       "0  Eşyalı Değil           2.0     15.000 TL  \n",
       "1  Eşyalı Değil           3.0  1.000.000 TL  \n",
       "2  Eşyalı Değil           1.0     30.000 TL  \n",
       "3  Eşyalı Değil           2.0     25.000 TL  \n",
       "4  Eşyalı Değil           1.0           NaN  "
      ]
     },
     "execution_count": 7,
     "metadata": {},
     "output_type": "execute_result"
    }
   ],
   "source": [
    "df = pd.read_excel(\"C:/Users/demir/OneDrive/Masaüstü/kazıma/Hepsi_Emlak/HepsiEmlakWebScraping/Hepsi_Emlak.xlsx\")\n",
    "df.head()"
   ]
  },
  {
   "cell_type": "code",
   "execution_count": 8,
   "metadata": {},
   "outputs": [
    {
     "data": {
      "text/plain": [
       "(19085, 13)"
      ]
     },
     "execution_count": 8,
     "metadata": {},
     "output_type": "execute_result"
    }
   ],
   "source": [
    "df.shape"
   ]
  },
  {
   "cell_type": "code",
   "execution_count": 9,
   "metadata": {},
   "outputs": [
    {
     "data": {
      "text/plain": [
       "Şehir                     0\n",
       "İlçe                      0\n",
       "Fiyat                     0\n",
       "Metre_Kare                0\n",
       "Konut Tipi                0\n",
       "Oda + Salon Sayısı        0\n",
       "Bulunduğu Kat          2344\n",
       "Bina Yaşı                 0\n",
       "Isınma Tipi               2\n",
       "Kat Sayısı                2\n",
       "Eşya Durumu            1219\n",
       "Banyo Sayısı            216\n",
       "Kira Getirisi         10972\n",
       "dtype: int64"
      ]
     },
     "execution_count": 9,
     "metadata": {},
     "output_type": "execute_result"
    }
   ],
   "source": [
    "df.isnull().sum()"
   ]
  },
  {
   "cell_type": "code",
   "execution_count": 10,
   "metadata": {},
   "outputs": [
    {
     "data": {
      "text/plain": [
       "(16029, 13)"
      ]
     },
     "execution_count": 10,
     "metadata": {},
     "output_type": "execute_result"
    }
   ],
   "source": [
    "df.drop_duplicates(inplace=True)\n",
    "df.shape\n"
   ]
  },
  {
   "cell_type": "code",
   "execution_count": 11,
   "metadata": {},
   "outputs": [],
   "source": [
    "df.columns = [\n",
    "    \"City\", \"District\", \"Price(TL)\", \"Field(m²)\", \"Housing Type\", \n",
    "    \"Number of Rooms + Living Room\", \"Floor Location\", \"Building Age\", \n",
    "    \"Heating Type\", \"Number of Floors\", \"Property Status\", \n",
    "    \"Number of Bathrooms\", \"Rental Income(TL)\"\n",
    "]\n"
   ]
  },
  {
   "cell_type": "code",
   "execution_count": 12,
   "metadata": {},
   "outputs": [],
   "source": [
    "df[\"Rental Income(TL)\"] = df[\"Rental Income(TL)\"].str.replace(\" TL\", \"\", regex=False)\n",
    "df[\"Rental Income(TL)\"] = df[\"Rental Income(TL)\"].str.replace(\".\", \"\", regex=False)\n",
    "df[\"Rental Income(TL)\"] = df[\"Rental Income(TL)\"].str.replace(\",\", \"\", regex=False)\n",
    "df.loc[df[\"Rental Income(TL)\"].str.contains(\"GBP\", na=False), \"Rental Income(TL)\"] = (\n",
    "df[\"Rental Income(TL)\"].str.replace(\" GBP\", \"\", regex=False).str.replace(\".\", \"\", regex=False).astype(\"Int64\") * 44) #22 Oct\n",
    "df[\"Rental Income(TL)\"] = df[\"Rental Income(TL)\"].astype(\"float64\")\n",
    "\n"
   ]
  },
  {
   "cell_type": "code",
   "execution_count": 13,
   "metadata": {},
   "outputs": [],
   "source": [
    "df[\"Rental Income(TL)\"] = df[\"Rental Income(TL)\"].fillna(df.groupby(['City', \"District\", \"Field(m²)\" , \"Price(TL)\"])['Rental Income(TL)'].transform(\"mean\"))\n",
    "df[\"Rental Income(TL)\"] = df[\"Rental Income(TL)\"].fillna(df.groupby(['City', \"District\", \"Field(m²)\"])['Rental Income(TL)'].transform(\"mean\"))\n",
    "df[\"Rental Income(TL)\"] = df[\"Rental Income(TL)\"].fillna(df.groupby(['City', \"District\"])['Rental Income(TL)'].transform(\"mean\"))"
   ]
  },
  {
   "cell_type": "code",
   "execution_count": 14,
   "metadata": {},
   "outputs": [
    {
     "data": {
      "text/plain": [
       "(15846, 14)"
      ]
     },
     "execution_count": 14,
     "metadata": {},
     "output_type": "execute_result"
    }
   ],
   "source": [
    "df[\"Price(TL)\"] = df[\"Price(TL)\"].str.replace(\" TL\", \"\")\n",
    "df[\"Price(TL)\"] = df[\"Price(TL)\"].str.replace(\".\", \"\")\n",
    "df.loc[df[\"Price(TL)\"].str.contains(\"GBP\"), \"Price(TL)\"] = (\n",
    "df[\"Price(TL)\"].str.replace(\" GBP\", \"\").str.replace(\".\", \"\").astype(\"Int64\") * 44) #22 Oct\n",
    "df[\"Price(TL)\"] = df[\"Price(TL)\"].astype('int64')\n",
    "\n",
    "\n",
    "df[\"Field(m²)\"] = df[\"Field(m²)\"].str.replace(\" m2\", \"\")\n",
    "df[\"Field(m²)\"] = df[\"Field(m²)\"].replace(\"Kat Karşılığı :\", \"0\")\n",
    "df[\"Field(m²)\"] = df[\"Field(m²)\"].str.replace(\".\", \"\", regex=False)\n",
    "df[\"Field(m²)\"] = df[\"Field(m²)\"].astype(\"int64\")\n",
    "\n",
    "\n",
    "df[\"Building Age\"] = df[\"Building Age\"].str.replace(\"Sıfır Bina\", \"0\")\n",
    "df[\"Building Age\"] = df[\"Building Age\"].str.replace(\" Yaşında\", \"\")\n",
    "df[\"Building Age\"] = df[\"Building Age\"].astype(\"int64\")\n",
    "\n",
    "\n",
    "df[\"Number of Floors\"] = df[\"Number of Floors\"].str.replace(\" Katlı\", \"\", regex=False)\n",
    "\n",
    "\n",
    "df[['Number of Rooms', 'Living_Rooms']] = df['Number of Rooms + Living Room'].str.split(r'\\s*\\+\\s*', expand=True)\n",
    "df.drop(\"Number of Rooms + Living Room\", axis=1,inplace=True)\n",
    "df['Number of Rooms'] = df['Number of Rooms'].astype(\"int64\")\n",
    "df['Living_Rooms'] = df['Living_Rooms'].astype(\"int64\")\n",
    "df = df.dropna(subset=['Number of Bathrooms'])\n",
    "df[\"Number of Bathrooms\"] = df[\"Number of Bathrooms\"].astype('int64')\n",
    "\n",
    "\n",
    "df.shape\n"
   ]
  },
  {
   "cell_type": "code",
   "execution_count": 15,
   "metadata": {},
   "outputs": [
    {
     "data": {
      "text/plain": [
       "City                      0\n",
       "District                  0\n",
       "Price(TL)                 0\n",
       "Field(m²)                 0\n",
       "Housing Type              0\n",
       "Floor Location         1967\n",
       "Building Age              0\n",
       "Heating Type              2\n",
       "Number of Floors          2\n",
       "Property Status        1015\n",
       "Number of Bathrooms       0\n",
       "Rental Income(TL)       167\n",
       "Number of Rooms           0\n",
       "Living_Rooms              0\n",
       "dtype: int64"
      ]
     },
     "execution_count": 15,
     "metadata": {},
     "output_type": "execute_result"
    }
   ],
   "source": [
    "df.isnull().sum()"
   ]
  },
  {
   "cell_type": "code",
   "execution_count": 16,
   "metadata": {},
   "outputs": [],
   "source": [
    "df = df.dropna(how=\"any\")"
   ]
  },
  {
   "cell_type": "code",
   "execution_count": 17,
   "metadata": {},
   "outputs": [
    {
     "name": "stdout",
     "output_type": "stream",
     "text": [
      "<class 'pandas.core.frame.DataFrame'>\n",
      "Index: 12903 entries, 0 to 19083\n",
      "Data columns (total 14 columns):\n",
      " #   Column               Non-Null Count  Dtype  \n",
      "---  ------               --------------  -----  \n",
      " 0   City                 12903 non-null  object \n",
      " 1   District             12903 non-null  object \n",
      " 2   Price(TL)            12903 non-null  int64  \n",
      " 3   Field(m²)            12903 non-null  int64  \n",
      " 4   Housing Type         12903 non-null  object \n",
      " 5   Floor Location       12903 non-null  object \n",
      " 6   Building Age         12903 non-null  int64  \n",
      " 7   Heating Type         12903 non-null  object \n",
      " 8   Number of Floors     12903 non-null  object \n",
      " 9   Property Status      12903 non-null  object \n",
      " 10  Number of Bathrooms  12903 non-null  int64  \n",
      " 11  Rental Income(TL)    12903 non-null  float64\n",
      " 12  Number of Rooms      12903 non-null  int64  \n",
      " 13  Living_Rooms         12903 non-null  int64  \n",
      "dtypes: float64(1), int64(6), object(7)\n",
      "memory usage: 1.5+ MB\n"
     ]
    }
   ],
   "source": [
    "df.info()"
   ]
  },
  {
   "cell_type": "code",
   "execution_count": 18,
   "metadata": {},
   "outputs": [],
   "source": [
    "df[\"Rental Income(TL)\"] = df[\"Rental Income(TL)\"].astype(\"int64\")\n",
    "df[\"Number of Floors\"] = df[\"Number of Floors\"].astype('int64')"
   ]
  },
  {
   "cell_type": "code",
   "execution_count": 19,
   "metadata": {},
   "outputs": [],
   "source": [
    "lbe = LabelEncoder()\n",
    "for col in df.select_dtypes(include=['object']).columns:\n",
    "        df[col] = lbe.fit_transform(df[col])"
   ]
  },
  {
   "cell_type": "code",
   "execution_count": 20,
   "metadata": {},
   "outputs": [
    {
     "data": {
      "text/html": [
       "<div>\n",
       "<style scoped>\n",
       "    .dataframe tbody tr th:only-of-type {\n",
       "        vertical-align: middle;\n",
       "    }\n",
       "\n",
       "    .dataframe tbody tr th {\n",
       "        vertical-align: top;\n",
       "    }\n",
       "\n",
       "    .dataframe thead th {\n",
       "        text-align: right;\n",
       "    }\n",
       "</style>\n",
       "<table border=\"1\" class=\"dataframe\">\n",
       "  <thead>\n",
       "    <tr style=\"text-align: right;\">\n",
       "      <th></th>\n",
       "      <th>City</th>\n",
       "      <th>District</th>\n",
       "      <th>Price(TL)</th>\n",
       "      <th>Field(m²)</th>\n",
       "      <th>Housing Type</th>\n",
       "      <th>Floor Location</th>\n",
       "      <th>Building Age</th>\n",
       "      <th>Heating Type</th>\n",
       "      <th>Number of Floors</th>\n",
       "      <th>Property Status</th>\n",
       "      <th>Number of Bathrooms</th>\n",
       "      <th>Rental Income(TL)</th>\n",
       "      <th>Number of Rooms</th>\n",
       "      <th>Living_Rooms</th>\n",
       "    </tr>\n",
       "  </thead>\n",
       "  <tbody>\n",
       "    <tr>\n",
       "      <th>0</th>\n",
       "      <td>0</td>\n",
       "      <td>213</td>\n",
       "      <td>1895000</td>\n",
       "      <td>175</td>\n",
       "      <td>1</td>\n",
       "      <td>15</td>\n",
       "      <td>1</td>\n",
       "      <td>9</td>\n",
       "      <td>13</td>\n",
       "      <td>1</td>\n",
       "      <td>2</td>\n",
       "      <td>15000</td>\n",
       "      <td>3</td>\n",
       "      <td>1</td>\n",
       "    </tr>\n",
       "    <tr>\n",
       "      <th>2</th>\n",
       "      <td>65</td>\n",
       "      <td>48</td>\n",
       "      <td>3150000</td>\n",
       "      <td>125</td>\n",
       "      <td>1</td>\n",
       "      <td>11</td>\n",
       "      <td>3</td>\n",
       "      <td>9</td>\n",
       "      <td>4</td>\n",
       "      <td>1</td>\n",
       "      <td>1</td>\n",
       "      <td>30000</td>\n",
       "      <td>2</td>\n",
       "      <td>1</td>\n",
       "    </tr>\n",
       "    <tr>\n",
       "      <th>3</th>\n",
       "      <td>5</td>\n",
       "      <td>166</td>\n",
       "      <td>3900000</td>\n",
       "      <td>260</td>\n",
       "      <td>1</td>\n",
       "      <td>18</td>\n",
       "      <td>5</td>\n",
       "      <td>9</td>\n",
       "      <td>7</td>\n",
       "      <td>1</td>\n",
       "      <td>2</td>\n",
       "      <td>25000</td>\n",
       "      <td>4</td>\n",
       "      <td>1</td>\n",
       "    </tr>\n",
       "    <tr>\n",
       "      <th>4</th>\n",
       "      <td>16</td>\n",
       "      <td>197</td>\n",
       "      <td>3750000</td>\n",
       "      <td>170</td>\n",
       "      <td>1</td>\n",
       "      <td>11</td>\n",
       "      <td>5</td>\n",
       "      <td>9</td>\n",
       "      <td>2</td>\n",
       "      <td>1</td>\n",
       "      <td>1</td>\n",
       "      <td>14822</td>\n",
       "      <td>4</td>\n",
       "      <td>1</td>\n",
       "    </tr>\n",
       "    <tr>\n",
       "      <th>5</th>\n",
       "      <td>9</td>\n",
       "      <td>78</td>\n",
       "      <td>3650000</td>\n",
       "      <td>110</td>\n",
       "      <td>1</td>\n",
       "      <td>11</td>\n",
       "      <td>15</td>\n",
       "      <td>7</td>\n",
       "      <td>4</td>\n",
       "      <td>1</td>\n",
       "      <td>1</td>\n",
       "      <td>25000</td>\n",
       "      <td>2</td>\n",
       "      <td>1</td>\n",
       "    </tr>\n",
       "  </tbody>\n",
       "</table>\n",
       "</div>"
      ],
      "text/plain": [
       "   City  District  Price(TL)  Field(m²)  Housing Type  Floor Location  \\\n",
       "0     0       213    1895000        175             1              15   \n",
       "2    65        48    3150000        125             1              11   \n",
       "3     5       166    3900000        260             1              18   \n",
       "4    16       197    3750000        170             1              11   \n",
       "5     9        78    3650000        110             1              11   \n",
       "\n",
       "   Building Age  Heating Type  Number of Floors  Property Status  \\\n",
       "0             1             9                13                1   \n",
       "2             3             9                 4                1   \n",
       "3             5             9                 7                1   \n",
       "4             5             9                 2                1   \n",
       "5            15             7                 4                1   \n",
       "\n",
       "   Number of Bathrooms  Rental Income(TL)  Number of Rooms  Living_Rooms  \n",
       "0                    2              15000                3             1  \n",
       "2                    1              30000                2             1  \n",
       "3                    2              25000                4             1  \n",
       "4                    1              14822                4             1  \n",
       "5                    1              25000                2             1  "
      ]
     },
     "execution_count": 20,
     "metadata": {},
     "output_type": "execute_result"
    }
   ],
   "source": [
    "df.head()"
   ]
  },
  {
   "cell_type": "code",
   "execution_count": 21,
   "metadata": {},
   "outputs": [
    {
     "name": "stdout",
     "output_type": "stream",
     "text": [
      "Q1 (1st quartile): 32500.0\n",
      "Q3 (3rd quartile): 47333.200000000914\n",
      "IQR: 14833.200000000914\n",
      "Lower bound: 10250.19999999863\n",
      "Upper bound: 69583.00000000228\n",
      "Number of outliers: 1566\n",
      "\n"
     ]
    }
   ],
   "source": [
    "Q1 = df[\"Rental Income(TL)\"].quantile(0.80)\n",
    "Q3 = df[\"Rental Income(TL)\"].quantile(0.90)\n",
    "IQR = Q3 - Q1\n",
    "\n",
    "lower = Q1 - 1.5 * IQR\n",
    "upper = Q3 + 1.5 * IQR\n",
    "\n",
    "outliers1 = df[(df[\"Rental Income(TL)\"] < lower) | (df[\"Rental Income(TL)\"] > upper)]\n",
    "\n",
    "df = df[(df[\"Rental Income(TL)\"] >= lower) & (df[\"Rental Income(TL)\"] <= upper)]\n",
    "\n",
    "print(f\"Q1 (1st quartile): {Q1}\")\n",
    "print(f\"Q3 (3rd quartile): {Q3}\")\n",
    "print(f\"IQR: {IQR}\")\n",
    "print(f\"Lower bound: {lower}\")\n",
    "print(f\"Upper bound: {upper}\")\n",
    "print(f\"Number of outliers: {len(outliers1)}\\n\")\n"
   ]
  },
  {
   "cell_type": "code",
   "execution_count": 22,
   "metadata": {},
   "outputs": [
    {
     "name": "stdout",
     "output_type": "stream",
     "text": [
      "Q1 (1st quartile): 6350000.0\n",
      "Q3 (3rd quartile): 9900000.0\n",
      "IQR: 3550000.0\n",
      "Lower bound: 1025000.0\n",
      "Upper bound: 15225000.0\n",
      "Number of outliers: 570\n",
      "\n"
     ]
    }
   ],
   "source": [
    "Q1 = df[\"Price(TL)\"].quantile(0.79)\n",
    "Q3 = df[\"Price(TL)\"].quantile(0.90)\n",
    "IQR = Q3 - Q1\n",
    "\n",
    "lower_bound = Q1 - 1.5 * IQR\n",
    "upper_bound = Q3 + 1.5 * IQR\n",
    "\n",
    "outliers = df[(df[\"Price(TL)\"] < lower_bound) | (df[\"Price(TL)\"] > upper_bound)]\n",
    "\n",
    "df_filtered = df[(df[\"Price(TL)\"] >= lower_bound) & (df[\"Price(TL)\"] <= upper_bound)]\n",
    "\n",
    "print(f\"Q1 (1st quartile): {Q1}\")\n",
    "print(f\"Q3 (3rd quartile): {Q3}\")\n",
    "print(f\"IQR: {IQR}\")\n",
    "print(f\"Lower bound: {lower_bound}\")\n",
    "print(f\"Upper bound: {upper_bound}\")\n",
    "print(f\"Number of outliers: {len(outliers)}\\n\")\n"
   ]
  },
  {
   "cell_type": "code",
   "execution_count": 23,
   "metadata": {},
   "outputs": [
    {
     "data": {
      "text/plain": [
       "(11337, 14)"
      ]
     },
     "execution_count": 23,
     "metadata": {},
     "output_type": "execute_result"
    }
   ],
   "source": [
    "df.shape"
   ]
  },
  {
   "cell_type": "code",
   "execution_count": 24,
   "metadata": {},
   "outputs": [],
   "source": [
    "df.to_excel(\"Hepsi_Emlak_Data_Cleaned.xlsx\", index = False)"
   ]
  }
 ],
 "metadata": {
  "kernelspec": {
   "display_name": "Python 3",
   "language": "python",
   "name": "python3"
  },
  "language_info": {
   "codemirror_mode": {
    "name": "ipython",
    "version": 3
   },
   "file_extension": ".py",
   "mimetype": "text/x-python",
   "name": "python",
   "nbconvert_exporter": "python",
   "pygments_lexer": "ipython3",
   "version": "3.12.6"
  }
 },
 "nbformat": 4,
 "nbformat_minor": 2
}
